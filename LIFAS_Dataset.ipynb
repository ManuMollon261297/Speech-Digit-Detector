{
  "nbformat": 4,
  "nbformat_minor": 0,
  "metadata": {
    "colab": {
      "name": "LIFAS-Dataset.ipynb",
      "provenance": []
    },
    "kernelspec": {
      "name": "python3",
      "display_name": "Python 3"
    },
    "language_info": {
      "name": "python"
    }
  },
  "cells": [
    {
      "cell_type": "code",
      "metadata": {
        "id": "yvcgVZCjaiOR"
      },
      "source": [
        "import requests\n",
        "import librosa\n",
        "import tarfile\n",
        "import os\n",
        "import matplotlib.pyplot as plt\n",
        "import numpy as np\n",
        "import IPython\n",
        "from librosa.display import specshow\n",
        "from PIL import Image"
      ],
      "execution_count": null,
      "outputs": []
    },
    {
      "cell_type": "code",
      "metadata": {
        "id": "cCF3j7W_amaZ"
      },
      "source": [
        "url = \"http://download.tensorflow.org/data/speech_commands_v0.01.tar.gz\"\n",
        "r = requests.get(url, allow_redirects=True)\n",
        "open('speech_commands_v0.01.tar.gz', 'wb').write(r.content)\n",
        "with tarfile.open('speech_commands_v0.01.tar.gz', 'r:gz') as tar:\n",
        "    tar.extractall(path='./data')"
      ],
      "execution_count": null,
      "outputs": []
    },
    {
      "cell_type": "code",
      "metadata": {
        "id": "KTikzr5Zas-g"
      },
      "source": [
        "digits = ['zero', 'one', 'two', 'three', 'four', 'five', 'six', 'seven', 'eight', 'nine']"
      ],
      "execution_count": null,
      "outputs": []
    },
    {
      "cell_type": "code",
      "metadata": {
        "colab": {
          "base_uri": "https://localhost:8080/"
        },
        "id": "FR27d2zUavHm",
        "outputId": "622a3657-44a3-4766-c05b-32f93644b5f5"
      },
      "source": [
        "for digit in digits:\n",
        "    print(digit, \": \", len(os.listdir('/content/data/'+digit)))"
      ],
      "execution_count": null,
      "outputs": [
        {
          "output_type": "stream",
          "text": [
            "zero :  2376\n",
            "one :  2370\n",
            "two :  2373\n",
            "three :  2356\n",
            "four :  2372\n",
            "five :  2357\n",
            "six :  2369\n",
            "seven :  2377\n",
            "eight :  2352\n",
            "nine :  2364\n"
          ],
          "name": "stdout"
        }
      ]
    },
    {
      "cell_type": "code",
      "metadata": {
        "id": "bPx8WNNhazEO"
      },
      "source": [
        "n_fft = 1024\n",
        "hop_length = 256\n",
        "n_mels = 40\n",
        "f_min = 20\n",
        "f_max = 8000\n",
        "sample_rate = 16000"
      ],
      "execution_count": null,
      "outputs": []
    },
    {
      "cell_type": "code",
      "metadata": {
        "id": "a_07jOVXa_7X"
      },
      "source": [
        "filename = '/content/data/zero/004ae714_nohash_1.wav'\n",
        "clip, sample_rate = librosa.load(filename, sr=None)"
      ],
      "execution_count": null,
      "outputs": []
    },
    {
      "cell_type": "code",
      "metadata": {
        "colab": {
          "base_uri": "https://localhost:8080/",
          "height": 265
        },
        "id": "FUl4ZbM1bC5f",
        "outputId": "c1e9c57a-1c6b-4453-fa35-44e3265698f1"
      },
      "source": [
        "plt.plot(clip)\n",
        "plt.show()"
      ],
      "execution_count": null,
      "outputs": [
        {
          "output_type": "display_data",
          "data": {
            "image/png": "[encoded data removed]",
            "text/plain": [
              "<Figure size 432x288 with 1 Axes>"
            ]
          },
          "metadata": {
            "tags": [],
            "needs_background": "light"
          }
        }
      ]
    },
    {
      "cell_type": "code",
      "metadata": {
        "id": "A-VMNGi3bFKo"
      },
      "source": [
        "IPython.display.Audio(filename) "
      ],
      "execution_count": null,
      "outputs": []
    },
    {
      "cell_type": "code",
      "metadata": {
        "id": "AKfzgKFXwJ87"
      },
      "source": [
        "n_fft = 1024  # frame length \n",
        "x = clip[:n_fft]\n",
        "X = np.fft.fft(x, n_fft)\n",
        "X_magnitude, X_phase = librosa.magphase(X)\n",
        "X_magnitude_db = librosa.amplitude_to_db(X_magnitude)"
      ],
      "execution_count": null,
      "outputs": []
    },
    {
      "cell_type": "code",
      "metadata": {
        "id": "p9ysCqZEbKlv"
      },
      "source": [
        "plt.plot(X_magnitude_db)\n",
        "plt.show()"
      ],
      "execution_count": null,
      "outputs": []
    },
    {
      "cell_type": "code",
      "metadata": {
        "id": "hIKt6ONZbMrn"
      },
      "source": [
        "stft = librosa.stft(clip, n_fft=n_fft, hop_length=hop_length)\n",
        "stft_magnitude, stft_phase = librosa.magphase(stft)\n",
        "stft_magnitude_db = librosa.amplitude_to_db(stft_magnitude)"
      ],
      "execution_count": null,
      "outputs": []
    },
    {
      "cell_type": "code",
      "metadata": {
        "id": "3Hak7bJfbOfm"
      },
      "source": [
        "plt.plot(stft_magnitude_db)\n",
        "plt.show()"
      ],
      "execution_count": null,
      "outputs": []
    },
    {
      "cell_type": "code",
      "metadata": {
        "id": "YHtQ253FbQwW"
      },
      "source": [
        "mel_spec = librosa.feature.melspectrogram(clip, n_fft=n_fft, hop_length=hop_length, n_mels=n_mels, sr=sample_rate, power=1.0, fmin=f_min, fmax=f_max)\n",
        "mel_spec_db = librosa.amplitude_to_db(mel_spec, ref=np.max)"
      ],
      "execution_count": null,
      "outputs": []
    },
    {
      "cell_type": "code",
      "metadata": {
        "id": "pSTUz-TibSoO"
      },
      "source": [
        "plt.plot(mel_spec_db)\n",
        "plt.show()"
      ],
      "execution_count": null,
      "outputs": []
    },
    {
      "cell_type": "code",
      "metadata": {
        "id": "Gm_lAxbQbSqg"
      },
      "source": [
        "specshow(mel_spec_db, x_axis='time', y_axis='mel')"
      ],
      "execution_count": null,
      "outputs": []
    },
    {
      "cell_type": "code",
      "metadata": {
        "id": "Oz6WDOeXbXHQ"
      },
      "source": [
        "S = librosa.feature.melspectrogram(y=clip, sr=sample_rate)\n",
        "librosa.display.specshow(librosa.power_to_db(S, ref=np.max), x_axis='time', y_axis='mel')#, fmin=50, fmax=280)"
      ],
      "execution_count": null,
      "outputs": []
    },
    {
      "cell_type": "code",
      "metadata": {
        "id": "0fZ2-Au9bZEI"
      },
      "source": [
        "def get_mel(label):\n",
        "  for filename in os.listdir('/content/data/'+label):\n",
        "    data, sr = librosa.load('/content/data/'+label+'/'+filename)\n",
        "    \n",
        "    fig = plt.figure(figsize=[1,1])\n",
        "    ax = fig.add_subplot(111)\n",
        "    ax.axes.get_xaxis().set_visible(False)\n",
        "    ax.axes.get_yaxis().set_visible(False)\n",
        "    ax.set_frame_on(False)\n",
        "    \n",
        "    S = librosa.feature.melspectrogram(y=data, sr=sr)\n",
        "    librosa.display.specshow(librosa.power_to_db(S, ref=np.max), x_axis='time', y_axis='mel', fmin=f_min, fmax=f_max)\n",
        "    newfile  = '/content/drive/MyDrive/Datasets/spokendigits/'+label+'/' + str(filename[:-4]) + '.jpg'\n",
        "    plt.savefig(newfile, dpi=500, bbox_inches='tight',pad_inches=0)\n",
        "    plt.close()"
      ],
      "execution_count": null,
      "outputs": []
    },
    {
      "cell_type": "code",
      "metadata": {
        "id": "BLzo18FIbbPQ"
      },
      "source": [
        "for dir in digits:\n",
        "  get_mel(dir)"
      ],
      "execution_count": null,
      "outputs": []
    }
  ]
}